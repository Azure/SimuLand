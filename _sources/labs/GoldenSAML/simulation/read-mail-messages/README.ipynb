{
 "cells": [
  {
   "cell_type": "markdown",
   "id": "acb5ee12",
   "metadata": {},
   "source": [
    "# Read Mail Messages via MS Graph APIs\n",
    "\n",
    "A threat actor with the right permissions and credentials can access and collect confidential information of interest right away. One example would be the collection of e-mails. An adversary can use Azure AD registered applications with `Mail.Read` or `Mail.ReadWrite` permissions to collect e-mails from a signed-in user mailbox or all mailboxes. This would depend on the type of permission (Delegated or Role) granted to the application. \n",
    "\n",
    "In this document, we are going to access the mailbox of a user via an application with `Mail.ReadWrite` delegated permissions.\n",
    "\n",
    "## Table of Contents\n",
    "\n",
    "* [Preconditions](#preconditions)\n",
    "* [Simulation Steps](#simulation-steps)\n",
    "* [Detection](#detection)\n",
    "* [Output](#output)\n",
    "\n",
    "## Preconditions\n",
    "* Authorization:\n",
    "    * Resource: Azure Microsoft Graph\n",
    "      * Permission Type: Delegated\n",
    "      * Permissions\n",
    "        * Mail.ReadWrite\n",
    "* Input:\n",
    "  * Microsoft Graph OAuth access token\n",
    "\n",
    "## Simulation Steps\n",
    "\n",
    "### Verify Microsoft Graph Access Token\n",
    "We need to make sure our access token has permissions to read mail. You can get that information while getting the OAuth access token with a SAML assertion in the [previous step](../get-oauth-accesstoken/README.md)\n",
    " \n",
    "![](../../../../images/labs/goldemsaml/mailAccessDelegatedPermissions/2021-05-19_01_msgraph_access_token.png)\n",
    "\n",
    "### Read Signed-In User Mail\n",
    "\n",
    "```PowerShell\n",
    "$uri = \"https://graph.microsoft.com/v1.0/me/messages\"\n",
    "$header = @{Authorization = \"Bearer $OAuthAccessToken\"}\n",
    "$mailbox = Invoke-RestMethod –Uri $uri –Headers $Header –Method GET –ContentType \"application/json\"\n",
    "$mailbox\n",
    "\n",
    "$mailbox.value[0].from\n",
    "\n",
    "$mailbox.value[0].subject\n",
    "```\n",
    "\n",
    "![](../../../../images/labs/goldemsaml/mailAccessDelegatedPermissions/2021-05-19_02_msgraph_message_api.png)\n",
    "\n",
    "We do not have to parse the messages in this step. The simple action to access the mailbox generates telemetry that we can aggregate and create detections with.\n",
    "\n",
    "## Detection\n",
    "\n",
    "### Detect Mail Items being Accessed\n",
    "\n",
    "From a defensive perspective, we can audit access to a mailbox with the `MailItemsAccessed` mailbox audit action available as part of `Exchange mailbox auditing`. \n",
    "\n",
    "#### Azure Sentinel Detection Rules\n",
    "\n",
    "* [Exchange workflow MailItemsAccessed operation anomaly](https://github.com/Azure/Azure-Sentinel/blob/master/Detections/OfficeActivity/MailItemsAccessedTimeSeries.yaml)\n",
    "\n",
    "#### Microsoft 365 Hunting Queries\n",
    "\n",
    "* [OAuth apps reading mail via GraphAPI anomaly [Nobelium]](https://github.com/microsoft/Microsoft-365-Defender-Hunting-Queries/blob/master/Exfiltration/OAuth%20Apps%20reading%20mail%20via%20GraphAPI%20anomaly%20%5BNobelium%5D.md)\n",
    "* [OAuth Apps reading mail both via GraphAPI and directly [Nobelium]](https://github.com/microsoft/Microsoft-365-Defender-Hunting-Queries/blob/master/Exfiltration/OAuth%20Apps%20reading%20mail%20both%20via%20GraphAPI%20and%20directly%20%5BNobelium%5D.md)\n",
    "\n",
    "## Output\n",
    "\n",
    "* Mail Messages\n",
    "\n",
    "## References"
   ]
  }
 ],
 "metadata": {
  "jupytext": {
   "cell_metadata_filter": "-all",
   "formats": "md:myst",
   "text_representation": {
    "extension": ".md",
    "format_name": "myst",
    "format_version": 0.13,
    "jupytext_version": "1.11.5"
   }
  },
  "kernelspec": {
   "display_name": "Python 3",
   "language": "python",
   "name": "python3"
  },
  "source_map": [
   14
  ]
 },
 "nbformat": 4,
 "nbformat_minor": 5
}